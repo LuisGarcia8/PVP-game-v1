{
 "cells": [
  {
   "cell_type": "code",
   "execution_count": 7,
   "id": "4be310f0-99a1-4976-8996-b016a9d6e018",
   "metadata": {},
   "outputs": [
    {
     "name": "stdout",
     "output_type": "stream",
     "text": [
      "Welcome to the martial arts game!!!\n"
     ]
    },
    {
     "name": "stdin",
     "output_type": "stream",
     "text": [
      "To begin type start:  start\n"
     ]
    },
    {
     "name": "stdout",
     "output_type": "stream",
     "text": [
      "Add player 1: \n"
     ]
    },
    {
     "name": "stdin",
     "output_type": "stream",
     "text": [
      "Create a name for your character:  jon\n",
      "Choose your fighter: Muay Tai, Karate, Taekwondo, BJJ: BJJ\n",
      "Test your Luck, type spin to generate a random set of inventory items:  spin\n"
     ]
    },
    {
     "name": "stdout",
     "output_type": "stream",
     "text": [
      "Add player 2: \n"
     ]
    },
    {
     "name": "stdin",
     "output_type": "stream",
     "text": [
      "Create a name for your character:  Joe\n",
      "Choose your fighter: Muay Tai, Karate, Taekwondo, BJJ: BJJ\n",
      "Test your Luck, type spin to generate a random set of inventory items:  spin\n"
     ]
    },
    {
     "name": "stdout",
     "output_type": "stream",
     "text": [
      " jon vs. Joe: Fight!\n",
      "jon's attacking\n",
      "Choose your next move: \n",
      "1. Punch (affects health)\n",
      "2. Kick (affects defense)\n",
      "3. Apply Random Buff\n",
      "4. Check Inventory\n"
     ]
    },
    {
     "name": "stdin",
     "output_type": "stream",
     "text": [
      "(1-3):  4\n"
     ]
    },
    {
     "ename": "NameError",
     "evalue": "name 'inventory_items' is not defined",
     "output_type": "error",
     "traceback": [
      "\u001b[1;31m---------------------------------------------------------------------------\u001b[0m",
      "\u001b[1;31mNameError\u001b[0m                                 Traceback (most recent call last)",
      "Cell \u001b[1;32mIn[7], line 162\u001b[0m\n\u001b[0;32m    159\u001b[0m         com_sim(player_list[\u001b[38;5;241m0\u001b[39m], player_list[\u001b[38;5;241m1\u001b[39m])\n\u001b[0;32m    161\u001b[0m \u001b[38;5;28;01mif\u001b[39;00m \u001b[38;5;18m__name__\u001b[39m \u001b[38;5;241m==\u001b[39m \u001b[38;5;124m\"\u001b[39m\u001b[38;5;124m__main__\u001b[39m\u001b[38;5;124m\"\u001b[39m:\n\u001b[1;32m--> 162\u001b[0m     main()\n",
      "Cell \u001b[1;32mIn[7], line 159\u001b[0m, in \u001b[0;36mmain\u001b[1;34m()\u001b[0m\n\u001b[0;32m    155\u001b[0m     \u001b[38;5;28mprint\u001b[39m(\u001b[38;5;124m\"\u001b[39m\u001b[38;5;124mGoodbye!!\u001b[39m\u001b[38;5;124m\"\u001b[39m)\n\u001b[0;32m    158\u001b[0m \u001b[38;5;28;01mif\u001b[39;00m \u001b[38;5;28mlen\u001b[39m(player_list) \u001b[38;5;241m==\u001b[39m \u001b[38;5;241m2\u001b[39m:\n\u001b[1;32m--> 159\u001b[0m     com_sim(player_list[\u001b[38;5;241m0\u001b[39m], player_list[\u001b[38;5;241m1\u001b[39m])\n",
      "Cell \u001b[1;32mIn[7], line 136\u001b[0m, in \u001b[0;36mcom_sim\u001b[1;34m(player1, player2)\u001b[0m\n\u001b[0;32m    134\u001b[0m \u001b[38;5;28mprint\u001b[39m(\u001b[38;5;124mf\u001b[39m\u001b[38;5;124m\"\u001b[39m\u001b[38;5;124m \u001b[39m\u001b[38;5;132;01m{\u001b[39;00mplayer1\u001b[38;5;241m.\u001b[39mname\u001b[38;5;132;01m}\u001b[39;00m\u001b[38;5;124m vs. \u001b[39m\u001b[38;5;132;01m{\u001b[39;00mplayer2\u001b[38;5;241m.\u001b[39mname\u001b[38;5;132;01m}\u001b[39;00m\u001b[38;5;124m: Fight!\u001b[39m\u001b[38;5;124m\"\u001b[39m)\n\u001b[0;32m    135\u001b[0m \u001b[38;5;28;01mwhile\u001b[39;00m player1\u001b[38;5;241m.\u001b[39mhealth \u001b[38;5;241m>\u001b[39m \u001b[38;5;241m0\u001b[39m \u001b[38;5;129;01mand\u001b[39;00m player2\u001b[38;5;241m.\u001b[39mhealth \u001b[38;5;241m>\u001b[39m \u001b[38;5;241m0\u001b[39m:\n\u001b[1;32m--> 136\u001b[0m     combat(player1, player2)\n\u001b[0;32m    137\u001b[0m     \u001b[38;5;28;01mif\u001b[39;00m player2\u001b[38;5;241m.\u001b[39mhealth \u001b[38;5;241m<\u001b[39m\u001b[38;5;241m=\u001b[39m\u001b[38;5;241m0\u001b[39m:\n\u001b[0;32m    138\u001b[0m         \u001b[38;5;28mprint\u001b[39m(\u001b[38;5;124mf\u001b[39m\u001b[38;5;124m\"\u001b[39m\u001b[38;5;132;01m{\u001b[39;00mplayer1\u001b[38;5;241m.\u001b[39mname\u001b[38;5;132;01m}\u001b[39;00m\u001b[38;5;124m is the victor!\u001b[39m\u001b[38;5;124m\"\u001b[39m)\n",
      "Cell \u001b[1;32mIn[7], line 126\u001b[0m, in \u001b[0;36mcombat\u001b[1;34m(combatant1, combatant2)\u001b[0m\n\u001b[0;32m    124\u001b[0m     \u001b[38;5;28mprint\u001b[39m(\u001b[38;5;124mf\u001b[39m\u001b[38;5;124m\"\u001b[39m\u001b[38;5;132;01m{\u001b[39;00mcombatant1\u001b[38;5;241m.\u001b[39mname\u001b[38;5;132;01m}\u001b[39;00m\u001b[38;5;124m applied a random buff to themselves!\u001b[39m\u001b[38;5;124m\"\u001b[39m)\n\u001b[0;32m    125\u001b[0m \u001b[38;5;28;01melif\u001b[39;00m action \u001b[38;5;241m==\u001b[39m \u001b[38;5;241m4\u001b[39m:\n\u001b[1;32m--> 126\u001b[0m     \u001b[38;5;28mprint\u001b[39m(\u001b[38;5;124m\"\u001b[39m\u001b[38;5;124mThese items are in your inventory: \u001b[39m\u001b[38;5;124m\"\u001b[39m, {inventory_items})\n\u001b[0;32m    127\u001b[0m \u001b[38;5;28;01melse\u001b[39;00m:\n\u001b[0;32m    128\u001b[0m     \u001b[38;5;28mprint\u001b[39m(\u001b[38;5;124m\"\u001b[39m\u001b[38;5;124mInvalid choice, defaulting to Punch.\u001b[39m\u001b[38;5;124m\"\u001b[39m)\n",
      "\u001b[1;31mNameError\u001b[0m: name 'inventory_items' is not defined"
     ]
    }
   ],
   "source": [
    "import json\n",
    "import random\n",
    "\n",
    "\n",
    "player_list =[]\n",
    "\n",
    "class Character():\n",
    "  def __init__(self, health=120, defense=100, mobility=15):\n",
    "    self.health = health\n",
    "    self.defense = defense\n",
    "    self.mobility = mobility\n",
    "    self.buffs = Buffs()\n",
    "\n",
    "  def apply_buffs(self):\n",
    "      self.health += self.buffs.recovery\n",
    "      self.defense += self.buffs.armor\n",
    "\n",
    "class Damage(Character):\n",
    "    def __init__(self, health, defense, mobility, punch, kick):\n",
    "      super().__init__(health, defense, mobility)\n",
    "      self.punch = punch\n",
    "      self.kick = kick\n",
    "      health -= punch\n",
    "      defense -= kick\n",
    "\n",
    "\n",
    "class MuayTai(Character):\n",
    "    def __init__(self):\n",
    "      super().__init__(120, 100, 15)\n",
    "\n",
    "\n",
    "class Karate(Character):\n",
    "    def __init__(self):\n",
    "      super().__init__(120, 100, 15)\n",
    "\n",
    "\n",
    "class Taekwondo(Character):\n",
    "    def __init__(self):\n",
    "      super().__init__(120, 100, 15)\n",
    "\n",
    "\n",
    "class BJJ(Character):\n",
    "    def __init__(self):\n",
    "      super().__init__(120, 100, 15)\n",
    "\n",
    "\n",
    "\n",
    "class Buffs:\n",
    "  def __init__(self, abilities = 0, armor = 0, recovery = 0):\n",
    "    super().__init__()\n",
    "    self.abilites = abilities\n",
    "    self.armor = armor\n",
    "    self.recovery = recovery\n",
    "\n",
    "\n",
    "def load_inv_items(json_file_path):\n",
    "    with open(json_file_path, 'r') as file:\n",
    "        players_inv = json.load(file)\n",
    "        \n",
    "def add_player():\n",
    "  player_name = input(\"Create a name for your character: \")\n",
    "  jugador =input(\"Choose your fighter: Muay Tai, Karate, Taekwondo, BJJ:\")\n",
    "  if jugador == 'Muay Tai' :\n",
    "    player = MuayTai()\n",
    "    player.name = player_name\n",
    "    player.buffs.abilites = 15\n",
    "\n",
    "  elif jugador == 'Karate':\n",
    "    player = Karate()\n",
    "    player.name = player_name\n",
    "    player.buffs.armor = 15\n",
    "\n",
    "  elif jugador == 'Taekwondo':\n",
    "    player = Taekwondo()\n",
    "    player.name = player_name\n",
    "    player.buffs.recovery = 15\n",
    "\n",
    "  elif jugador == 'BJJ':\n",
    "    player = BJJ()\n",
    "    player.name = player_name\n",
    "    player.buffs.abilites = 15\n",
    "\n",
    "  else:\n",
    "    print(\"Error, that character is not on the roster, run code again!\")\n",
    "    return None\n",
    "\n",
    "\n",
    "  inventory_items = load_inv_items('PVP_items.json')\n",
    "  player_inventory = input(\"Test your Luck, type spin to generate a random set of inventory items: \")\n",
    "  \n",
    "  \n",
    "  player_list.append(player)\n",
    "  return player\n",
    "\n",
    "  if player:\n",
    "        file_path = 'player_details.txt'\n",
    "        with open(file_path, 'a') as file:\n",
    "            file.write(f\"Fighter: {type(player).__name__}\\n\")\n",
    "            file.write(f\"Health: {player.health}\\n\")\n",
    "            file.write(f\"Defense: {player.defense}\\n\")\n",
    "            file.write(f\"Mobility: {player.mobility}\\n\")\n",
    "            file.write(\"\\n\")\n",
    "\n",
    "def combat(combatant1, combatant2, inventory_items):\n",
    "    print(f\"{combatant1.name}'s attacking\")\n",
    "    print(\"Choose your next move: \")\n",
    "    print(\"1. Punch (affects health)\")\n",
    "    print(\"2. Kick (affects defense)\")\n",
    "    print(\"3. Apply Random Buff\")\n",
    "    print(\"4. Check Inventory\")\n",
    "\n",
    "    action = int(input(\"(1-3): \"))\n",
    "    if action == 1:\n",
    "        damage_output = random.randint(10, 20)\n",
    "        damage_inflicted = combatant2.health - damage_output\n",
    "        print(f\"{combatant1.name} hits {combatant2.name} for {damage_inflicted}\")\n",
    "    elif action == 2:\n",
    "        damage_output = random.randint(15, 25)\n",
    "        damage_inflicted = combatant2.defense - damage_output\n",
    "        print(f\"{combatant1.name} hits {combatant2.name} for {damage_inflicted}\")\n",
    "    elif action == 3:\n",
    "        random_buff_type = random.choice(['abilities', 'armor', 'recovery'])\n",
    "        setattr(combatant1.buffs, random_buff_type, random.randint(5,20))\n",
    "        print(f\"{combatant1.name} applied a random buff to themselves!\")\n",
    "    elif action == 4:\n",
    "        print(\"These items are in your inventory: \", inventory_items)\n",
    "    else:\n",
    "        print(\"Invalid choice, defaulting to Punch.\")\n",
    "        damage_output = random.randint(10, 20)\n",
    "        damage_inflicted = combatant2.health - damage_output\n",
    "        print(f\"{combatant1.name} hits {combatant2.name} for {damage_inflicted}\")\n",
    "\n",
    "def com_sim(player1, player2):\n",
    "    print(f\" {player1.name} vs. {player2.name}: Fight!\")\n",
    "    while player1.health > 0 and player2.health > 0:\n",
    "        combat(player1, player2)\n",
    "        if player2.health <=0:\n",
    "            print(f\"{player1.name} is the victor!\")\n",
    "            break\n",
    "        combat(player2, player1)\n",
    "        if player1.health <= 0:\n",
    "            print(f\"{player2.name} is the victor!\")\n",
    "            break\n",
    "\n",
    "def main():\n",
    "    print(\"Welcome to the martial arts game!!!\")\n",
    "    Start = input(\"To begin type start: \")\n",
    "    if Start == 'start':\n",
    "        print(\"Add player 1: \")\n",
    "        player1 = add_player()\n",
    "        print(\"Add player 2: \")\n",
    "        player2 = add_player()\n",
    "\n",
    "    else:\n",
    "        print(\"Goodbye!!\")\n",
    "\n",
    "    \n",
    "    if len(player_list) == 2:\n",
    "        com_sim(player_list[0], player_list[1])\n",
    "\n",
    "if __name__ == \"__main__\":\n",
    "    main()\n",
    "    "
   ]
  },
  {
   "cell_type": "code",
   "execution_count": null,
   "id": "acc0c9fc-36a8-43a7-a450-18dda75485b7",
   "metadata": {},
   "outputs": [],
   "source": []
  }
 ],
 "metadata": {
  "kernelspec": {
   "display_name": "Python 3 (ipykernel)",
   "language": "python",
   "name": "python3"
  },
  "language_info": {
   "codemirror_mode": {
    "name": "ipython",
    "version": 3
   },
   "file_extension": ".py",
   "mimetype": "text/x-python",
   "name": "python",
   "nbconvert_exporter": "python",
   "pygments_lexer": "ipython3",
   "version": "3.11.7"
  }
 },
 "nbformat": 4,
 "nbformat_minor": 5
}
